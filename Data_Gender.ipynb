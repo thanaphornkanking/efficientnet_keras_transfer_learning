{
  "cells": [
    {
      "cell_type": "markdown",
      "metadata": {
        "id": "view-in-github",
        "colab_type": "text"
      },
      "source": [
        "<a href=\"https://colab.research.google.com/github/Wanita-8943/efficientnet_keras_transfer_learning/blob/master/Data_Gender.ipynb\" target=\"_parent\"><img src=\"https://colab.research.google.com/assets/colab-badge.svg\" alt=\"Open In Colab\"/></a>"
      ]
    },
    {
      "cell_type": "code",
      "execution_count": 55,
      "metadata": {
        "id": "MFmF-FwVzTXN"
      },
      "outputs": [],
      "source": [
        "import pandas as pd\n",
        "import shutil\n",
        "import os\n",
        "import glob\n",
        "import shutil\n",
        "import sys\n",
        "import numpy as np"
      ]
    },
    {
      "cell_type": "code",
      "execution_count": 56,
      "metadata": {
        "colab": {
          "base_uri": "https://localhost:8080/"
        },
        "id": "dhseGVeOzd7E",
        "outputId": "059ae684-7dd5-40e8-e634-11dfe195ca36"
      },
      "outputs": [
        {
          "output_type": "stream",
          "name": "stdout",
          "text": [
            "Drive already mounted at /content/drive; to attempt to forcibly remount, call drive.mount(\"/content/drive\", force_remount=True).\n"
          ]
        }
      ],
      "source": [
        "from google.colab import drive\n",
        "drive.mount('/content/drive')"
      ]
    },
    {
      "cell_type": "code",
      "execution_count": 57,
      "metadata": {
        "colab": {
          "base_uri": "https://localhost:8080/",
          "height": 424
        },
        "id": "VJYqvLwFzlke",
        "outputId": "c26e27f9-9ac2-4331-83c7-241f4a7b624b"
      },
      "outputs": [
        {
          "output_type": "execute_result",
          "data": {
            "text/plain": [
              "      Fig_Age  Fig_Person_Sex  Age(year) Class       Filename  \\\n",
              "0           1               1          7  Y07F         V1.jpg   \n",
              "1           2               1          7  Y07F    Flip_V1.jpg   \n",
              "2           3               2          7  Y07F         V2.jpg   \n",
              "3           4               2          7  Y07F    Flip_V2.jpg   \n",
              "4           5               3          7  Y07F         V3.jpg   \n",
              "...       ...             ...        ...   ...            ...   \n",
              "4745      121              77         25  Y25M  Flip_J463.jpg   \n",
              "4746      122              78         25  Y25M       J464.jpg   \n",
              "4747      123              78         25  Y25M  Flip_J464.jpg   \n",
              "4748      124              79         25  Y25M       J465.jpg   \n",
              "4749      125              79         25  Y25M  Flip_J465.jpg   \n",
              "\n",
              "                                          Path_filename     Sex Floder  \n",
              "0     /content/drive/My Drive/cut_panoramic/7 year/7...  Female   Both  \n",
              "1     /content/drive/My Drive/cut_panoramic/7 year/7...  Female   Both  \n",
              "2     /content/drive/My Drive/cut_panoramic/7 year/7...  Female   Both  \n",
              "3     /content/drive/My Drive/cut_panoramic/7 year/7...  Female   Both  \n",
              "4     /content/drive/My Drive/cut_panoramic/7 year/7...  Female   Both  \n",
              "...                                                 ...     ...    ...  \n",
              "4745  /content/drive/My Drive/cut_panoramic/25 year/...    Male   Both  \n",
              "4746  /content/drive/My Drive/cut_panoramic/25 year/...    Male   Both  \n",
              "4747  /content/drive/My Drive/cut_panoramic/25 year/...    Male   Both  \n",
              "4748  /content/drive/My Drive/cut_panoramic/25 year/...    Male   Both  \n",
              "4749  /content/drive/My Drive/cut_panoramic/25 year/...    Male   Both  \n",
              "\n",
              "[4750 rows x 8 columns]"
            ],
            "text/html": [
              "\n",
              "  <div id=\"df-5157936e-923e-4f68-b003-6e7dd1845e7a\">\n",
              "    <div class=\"colab-df-container\">\n",
              "      <div>\n",
              "<style scoped>\n",
              "    .dataframe tbody tr th:only-of-type {\n",
              "        vertical-align: middle;\n",
              "    }\n",
              "\n",
              "    .dataframe tbody tr th {\n",
              "        vertical-align: top;\n",
              "    }\n",
              "\n",
              "    .dataframe thead th {\n",
              "        text-align: right;\n",
              "    }\n",
              "</style>\n",
              "<table border=\"1\" class=\"dataframe\">\n",
              "  <thead>\n",
              "    <tr style=\"text-align: right;\">\n",
              "      <th></th>\n",
              "      <th>Fig_Age</th>\n",
              "      <th>Fig_Person_Sex</th>\n",
              "      <th>Age(year)</th>\n",
              "      <th>Class</th>\n",
              "      <th>Filename</th>\n",
              "      <th>Path_filename</th>\n",
              "      <th>Sex</th>\n",
              "      <th>Floder</th>\n",
              "    </tr>\n",
              "  </thead>\n",
              "  <tbody>\n",
              "    <tr>\n",
              "      <th>0</th>\n",
              "      <td>1</td>\n",
              "      <td>1</td>\n",
              "      <td>7</td>\n",
              "      <td>Y07F</td>\n",
              "      <td>V1.jpg</td>\n",
              "      <td>/content/drive/My Drive/cut_panoramic/7 year/7...</td>\n",
              "      <td>Female</td>\n",
              "      <td>Both</td>\n",
              "    </tr>\n",
              "    <tr>\n",
              "      <th>1</th>\n",
              "      <td>2</td>\n",
              "      <td>1</td>\n",
              "      <td>7</td>\n",
              "      <td>Y07F</td>\n",
              "      <td>Flip_V1.jpg</td>\n",
              "      <td>/content/drive/My Drive/cut_panoramic/7 year/7...</td>\n",
              "      <td>Female</td>\n",
              "      <td>Both</td>\n",
              "    </tr>\n",
              "    <tr>\n",
              "      <th>2</th>\n",
              "      <td>3</td>\n",
              "      <td>2</td>\n",
              "      <td>7</td>\n",
              "      <td>Y07F</td>\n",
              "      <td>V2.jpg</td>\n",
              "      <td>/content/drive/My Drive/cut_panoramic/7 year/7...</td>\n",
              "      <td>Female</td>\n",
              "      <td>Both</td>\n",
              "    </tr>\n",
              "    <tr>\n",
              "      <th>3</th>\n",
              "      <td>4</td>\n",
              "      <td>2</td>\n",
              "      <td>7</td>\n",
              "      <td>Y07F</td>\n",
              "      <td>Flip_V2.jpg</td>\n",
              "      <td>/content/drive/My Drive/cut_panoramic/7 year/7...</td>\n",
              "      <td>Female</td>\n",
              "      <td>Both</td>\n",
              "    </tr>\n",
              "    <tr>\n",
              "      <th>4</th>\n",
              "      <td>5</td>\n",
              "      <td>3</td>\n",
              "      <td>7</td>\n",
              "      <td>Y07F</td>\n",
              "      <td>V3.jpg</td>\n",
              "      <td>/content/drive/My Drive/cut_panoramic/7 year/7...</td>\n",
              "      <td>Female</td>\n",
              "      <td>Both</td>\n",
              "    </tr>\n",
              "    <tr>\n",
              "      <th>...</th>\n",
              "      <td>...</td>\n",
              "      <td>...</td>\n",
              "      <td>...</td>\n",
              "      <td>...</td>\n",
              "      <td>...</td>\n",
              "      <td>...</td>\n",
              "      <td>...</td>\n",
              "      <td>...</td>\n",
              "    </tr>\n",
              "    <tr>\n",
              "      <th>4745</th>\n",
              "      <td>121</td>\n",
              "      <td>77</td>\n",
              "      <td>25</td>\n",
              "      <td>Y25M</td>\n",
              "      <td>Flip_J463.jpg</td>\n",
              "      <td>/content/drive/My Drive/cut_panoramic/25 year/...</td>\n",
              "      <td>Male</td>\n",
              "      <td>Both</td>\n",
              "    </tr>\n",
              "    <tr>\n",
              "      <th>4746</th>\n",
              "      <td>122</td>\n",
              "      <td>78</td>\n",
              "      <td>25</td>\n",
              "      <td>Y25M</td>\n",
              "      <td>J464.jpg</td>\n",
              "      <td>/content/drive/My Drive/cut_panoramic/25 year/...</td>\n",
              "      <td>Male</td>\n",
              "      <td>Both</td>\n",
              "    </tr>\n",
              "    <tr>\n",
              "      <th>4747</th>\n",
              "      <td>123</td>\n",
              "      <td>78</td>\n",
              "      <td>25</td>\n",
              "      <td>Y25M</td>\n",
              "      <td>Flip_J464.jpg</td>\n",
              "      <td>/content/drive/My Drive/cut_panoramic/25 year/...</td>\n",
              "      <td>Male</td>\n",
              "      <td>Both</td>\n",
              "    </tr>\n",
              "    <tr>\n",
              "      <th>4748</th>\n",
              "      <td>124</td>\n",
              "      <td>79</td>\n",
              "      <td>25</td>\n",
              "      <td>Y25M</td>\n",
              "      <td>J465.jpg</td>\n",
              "      <td>/content/drive/My Drive/cut_panoramic/25 year/...</td>\n",
              "      <td>Male</td>\n",
              "      <td>Both</td>\n",
              "    </tr>\n",
              "    <tr>\n",
              "      <th>4749</th>\n",
              "      <td>125</td>\n",
              "      <td>79</td>\n",
              "      <td>25</td>\n",
              "      <td>Y25M</td>\n",
              "      <td>Flip_J465.jpg</td>\n",
              "      <td>/content/drive/My Drive/cut_panoramic/25 year/...</td>\n",
              "      <td>Male</td>\n",
              "      <td>Both</td>\n",
              "    </tr>\n",
              "  </tbody>\n",
              "</table>\n",
              "<p>4750 rows × 8 columns</p>\n",
              "</div>\n",
              "      <button class=\"colab-df-convert\" onclick=\"convertToInteractive('df-5157936e-923e-4f68-b003-6e7dd1845e7a')\"\n",
              "              title=\"Convert this dataframe to an interactive table.\"\n",
              "              style=\"display:none;\">\n",
              "        \n",
              "  <svg xmlns=\"http://www.w3.org/2000/svg\" height=\"24px\"viewBox=\"0 0 24 24\"\n",
              "       width=\"24px\">\n",
              "    <path d=\"M0 0h24v24H0V0z\" fill=\"none\"/>\n",
              "    <path d=\"M18.56 5.44l.94 2.06.94-2.06 2.06-.94-2.06-.94-.94-2.06-.94 2.06-2.06.94zm-11 1L8.5 8.5l.94-2.06 2.06-.94-2.06-.94L8.5 2.5l-.94 2.06-2.06.94zm10 10l.94 2.06.94-2.06 2.06-.94-2.06-.94-.94-2.06-.94 2.06-2.06.94z\"/><path d=\"M17.41 7.96l-1.37-1.37c-.4-.4-.92-.59-1.43-.59-.52 0-1.04.2-1.43.59L10.3 9.45l-7.72 7.72c-.78.78-.78 2.05 0 2.83L4 21.41c.39.39.9.59 1.41.59.51 0 1.02-.2 1.41-.59l7.78-7.78 2.81-2.81c.8-.78.8-2.07 0-2.86zM5.41 20L4 18.59l7.72-7.72 1.47 1.35L5.41 20z\"/>\n",
              "  </svg>\n",
              "      </button>\n",
              "      \n",
              "  <style>\n",
              "    .colab-df-container {\n",
              "      display:flex;\n",
              "      flex-wrap:wrap;\n",
              "      gap: 12px;\n",
              "    }\n",
              "\n",
              "    .colab-df-convert {\n",
              "      background-color: #E8F0FE;\n",
              "      border: none;\n",
              "      border-radius: 50%;\n",
              "      cursor: pointer;\n",
              "      display: none;\n",
              "      fill: #1967D2;\n",
              "      height: 32px;\n",
              "      padding: 0 0 0 0;\n",
              "      width: 32px;\n",
              "    }\n",
              "\n",
              "    .colab-df-convert:hover {\n",
              "      background-color: #E2EBFA;\n",
              "      box-shadow: 0px 1px 2px rgba(60, 64, 67, 0.3), 0px 1px 3px 1px rgba(60, 64, 67, 0.15);\n",
              "      fill: #174EA6;\n",
              "    }\n",
              "\n",
              "    [theme=dark] .colab-df-convert {\n",
              "      background-color: #3B4455;\n",
              "      fill: #D2E3FC;\n",
              "    }\n",
              "\n",
              "    [theme=dark] .colab-df-convert:hover {\n",
              "      background-color: #434B5C;\n",
              "      box-shadow: 0px 1px 3px 1px rgba(0, 0, 0, 0.15);\n",
              "      filter: drop-shadow(0px 1px 2px rgba(0, 0, 0, 0.3));\n",
              "      fill: #FFFFFF;\n",
              "    }\n",
              "  </style>\n",
              "\n",
              "      <script>\n",
              "        const buttonEl =\n",
              "          document.querySelector('#df-5157936e-923e-4f68-b003-6e7dd1845e7a button.colab-df-convert');\n",
              "        buttonEl.style.display =\n",
              "          google.colab.kernel.accessAllowed ? 'block' : 'none';\n",
              "\n",
              "        async function convertToInteractive(key) {\n",
              "          const element = document.querySelector('#df-5157936e-923e-4f68-b003-6e7dd1845e7a');\n",
              "          const dataTable =\n",
              "            await google.colab.kernel.invokeFunction('convertToInteractive',\n",
              "                                                     [key], {});\n",
              "          if (!dataTable) return;\n",
              "\n",
              "          const docLinkHtml = 'Like what you see? Visit the ' +\n",
              "            '<a target=\"_blank\" href=https://colab.research.google.com/notebooks/data_table.ipynb>data table notebook</a>'\n",
              "            + ' to learn more about interactive tables.';\n",
              "          element.innerHTML = '';\n",
              "          dataTable['output_type'] = 'display_data';\n",
              "          await google.colab.output.renderOutput(dataTable, element);\n",
              "          const docLink = document.createElement('div');\n",
              "          docLink.innerHTML = docLinkHtml;\n",
              "          element.appendChild(docLink);\n",
              "        }\n",
              "      </script>\n",
              "    </div>\n",
              "  </div>\n",
              "  "
            ]
          },
          "metadata": {},
          "execution_count": 57
        }
      ],
      "source": [
        "df = pd.read_csv (r'/content/drive/MyDrive/cut_panoramic/Data/1Data_Gender.csv')\n",
        "df"
      ]
    },
    {
      "cell_type": "markdown",
      "metadata": {
        "id": "LnLyeG1T0YkK"
      },
      "source": [
        "##สร้างโฟลเดอร์"
      ]
    },
    {
      "cell_type": "code",
      "execution_count": 58,
      "metadata": {
        "id": "MqIVNaz9zls8"
      },
      "outputs": [],
      "source": [
        "base_dir = '/content/drive/My Drive/TVT_Gender'\n",
        "os.makedirs(base_dir, exist_ok=True)\n",
        "\n",
        "# Directories for our training,\n",
        "# validation and test splits\n",
        "train_dir = os.path.join(base_dir, 'train')\n",
        "os.makedirs(train_dir, exist_ok=True)\n",
        "validation_dir = os.path.join(base_dir, 'validation')\n",
        "os.makedirs(validation_dir, exist_ok=True)\n",
        "test_dir = os.path.join(base_dir, 'test')\n",
        "os.makedirs(test_dir, exist_ok=True)"
      ]
    },
    {
      "cell_type": "code",
      "execution_count": 59,
      "metadata": {
        "id": "Y0-gy2yzzsE6"
      },
      "outputs": [],
      "source": [
        "train_Female_dir = os.path.join(train_dir, 'Female')\n",
        "os.makedirs(train_Female_dir, exist_ok=True)\n",
        "\n",
        "train_Male_dir = os.path.join(train_dir, 'Male')\n",
        "os.makedirs(train_Male_dir, exist_ok=True)"
      ]
    },
    {
      "cell_type": "code",
      "execution_count": 60,
      "metadata": {
        "id": "TPy7aLI0z6v4"
      },
      "outputs": [],
      "source": [
        "validation_Female_dir = os.path.join(validation_dir, 'Female')\n",
        "os.makedirs(validation_Female_dir, exist_ok=True)\n",
        "\n",
        "validation_Male_dir = os.path.join(validation_dir, 'Male')\n",
        "os.makedirs(validation_Male_dir, exist_ok=True)"
      ]
    },
    {
      "cell_type": "code",
      "execution_count": 61,
      "metadata": {
        "id": "eN-LZ6sr0L0W"
      },
      "outputs": [],
      "source": [
        "test_Female_dir = os.path.join(test_dir, 'Female')\n",
        "os.makedirs(test_Female_dir, exist_ok=True)\n",
        "\n",
        "test_Male_dir = os.path.join(test_dir, 'Male')\n",
        "os.makedirs(test_Male_dir, exist_ok=True)"
      ]
    },
    {
      "cell_type": "code",
      "execution_count": 62,
      "metadata": {
        "id": "lvrFJLp60q8m"
      },
      "outputs": [],
      "source": [
        "val = df[df['Fig_Age'].between(76,100)]\n",
        "train = df[df['Fig_Age'].between(1,75)]\n",
        "test = df[df['Fig_Age'].between(101,125)]"
      ]
    },
    {
      "cell_type": "code",
      "execution_count": 63,
      "metadata": {
        "id": "Lhemgw470gFu"
      },
      "outputs": [],
      "source": [
        "# #Path Train\n",
        "# Female_train = train[train['Sex']=='Female' ]\n",
        "# Female_path_train = Female_train['Path_filename'].tolist() \n",
        "\n",
        "# Male_train = train[train['Sex']=='Male' ]\n",
        "# Male_path_train = Male_train['Path_filename'].tolist()"
      ]
    },
    {
      "cell_type": "code",
      "execution_count": 64,
      "metadata": {
        "id": "5ADou1LY1dRQ"
      },
      "outputs": [],
      "source": [
        "# #Path Train\n",
        "# Female_val = val[val['Sex']=='Female' ]\n",
        "# Female_path_val = Female_val['Path_filename'].tolist() \n",
        "\n",
        "Male_val = val[val['Sex']=='Male' ]\n",
        "Male_path_val = Male_val['Path_filename'].tolist() "
      ]
    },
    {
      "cell_type": "code",
      "execution_count": 65,
      "metadata": {
        "id": "iX7vD1a61pXH"
      },
      "outputs": [],
      "source": [
        "# #Path Train\n",
        "# Female_test = test[test['Sex']=='Female' ]\n",
        "# Female_path_test = Female_test['Path_filename'].tolist() \n",
        "\n",
        "# Male_test = test[test['Sex']=='Male' ]\n",
        "# Male_path_test = Male_test['Path_filename'].tolist() "
      ]
    },
    {
      "cell_type": "markdown",
      "metadata": {
        "id": "3XEwJFuH0XXh"
      },
      "source": [
        "##ดึงรูปเข้าโฟลเดอร์"
      ]
    },
    {
      "cell_type": "code",
      "execution_count": 66,
      "metadata": {
        "id": "w_azSGLX2InZ"
      },
      "outputs": [],
      "source": [
        "# fnames = Female_path_train\n",
        "# for fname in fnames:\n",
        "#     dst = os.path.join(train_Female_dir, os.path.basename(fname))\n",
        "#     shutil.copyfile(fname, dst)\n",
        "    \n",
        "\n",
        "\n",
        "# fnames = Male_path_train\n",
        "# for fname in fnames:\n",
        "#     dst = os.path.join(train_Male_dir, os.path.basename(fname))\n",
        "#     shutil.copyfile(fname, dst)"
      ]
    },
    {
      "cell_type": "code",
      "execution_count": 67,
      "metadata": {
        "id": "x8drECUV2ZKV"
      },
      "outputs": [],
      "source": [
        "# fnames = Female_path_val\n",
        "# for fname in fnames:\n",
        "#     dst = os.path.join(validation_Female_dir, os.path.basename(fname))\n",
        "#     shutil.copyfile(fname, dst)\n",
        "\n",
        "\n",
        "fnames = Male_path_val\n",
        "for fname in fnames:\n",
        "    dst = os.path.join(validation_Male_dir, os.path.basename(fname))\n",
        "    shutil.copyfile(fname, dst)"
      ]
    },
    {
      "cell_type": "code",
      "execution_count": 68,
      "metadata": {
        "id": "wm3tcnTc3ekJ"
      },
      "outputs": [],
      "source": [
        "# fnames = Female_path_test\n",
        "# for fname in fnames:\n",
        "#     dst = os.path.join(test_Female_dir, os.path.basename(fname))\n",
        "#     shutil.copyfile(fname, dst)\n",
        "\n",
        "\n",
        "# fnames = Male_path_test\n",
        "# for fname in fnames:\n",
        "#     dst = os.path.join(test_Male_dir, os.path.basename(fname))\n",
        "#     shutil.copyfile(fname, dst)"
      ]
    },
    {
      "cell_type": "code",
      "execution_count": 69,
      "metadata": {
        "id": "9uNoEEhE5nk7",
        "colab": {
          "base_uri": "https://localhost:8080/"
        },
        "outputId": "b5b1f835-e2fb-4976-94b9-7e816dbf03e7"
      },
      "outputs": [
        {
          "output_type": "stream",
          "name": "stdout",
          "text": [
            "total validation Male images: 475\n"
          ]
        }
      ],
      "source": [
        "# print('total training Female images:', len(os.listdir(train_Female_dir))) \n",
        "# print('total training Male images:', len(os.listdir(train_Male_dir)))\n",
        "\n",
        "\n",
        "# print('total validation Female images:', len(os.listdir(validation_Female_dir))) \n",
        "print('total validation Male images:', len(os.listdir(validation_Male_dir)))\n",
        "\n",
        "\n",
        "# print('total test Female images:', len(os.listdir(test_Female_dir))) \n",
        "# print('total test Male images:', len(os.listdir(test_Male_dir)))"
      ]
    },
    {
      "cell_type": "code",
      "source": [],
      "metadata": {
        "id": "12e8_hnZAKZT"
      },
      "execution_count": 69,
      "outputs": []
    }
  ],
  "metadata": {
    "colab": {
      "provenance": [],
      "include_colab_link": true
    },
    "kernelspec": {
      "display_name": "Python 3",
      "name": "python3"
    },
    "language_info": {
      "name": "python"
    }
  },
  "nbformat": 4,
  "nbformat_minor": 0
}